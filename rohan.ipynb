{
 "cells": [
  {
   "cell_type": "code",
   "execution_count": 1,
   "metadata": {},
   "outputs": [],
   "source": [
    "import pandas as pd\n",
    "import numpy as np"
   ]
  },
  {
   "cell_type": "code",
   "execution_count": 68,
   "metadata": {},
   "outputs": [],
   "source": [
    "df = pd.read_csv('./csv_files/Data.csv')"
   ]
  },
  {
   "cell_type": "code",
   "execution_count": 69,
   "metadata": {},
   "outputs": [
    {
     "data": {
      "text/html": [
       "<div>\n",
       "<style scoped>\n",
       "    .dataframe tbody tr th:only-of-type {\n",
       "        vertical-align: middle;\n",
       "    }\n",
       "\n",
       "    .dataframe tbody tr th {\n",
       "        vertical-align: top;\n",
       "    }\n",
       "\n",
       "    .dataframe thead th {\n",
       "        text-align: right;\n",
       "    }\n",
       "</style>\n",
       "<table border=\"1\" class=\"dataframe\">\n",
       "  <thead>\n",
       "    <tr style=\"text-align: right;\">\n",
       "      <th></th>\n",
       "      <th>Last_Day_of_Week</th>\n",
       "      <th>Xerox</th>\n",
       "      <th>Print_BW</th>\n",
       "      <th>Files</th>\n",
       "      <th>Binding</th>\n",
       "      <th>Print_Colour</th>\n",
       "      <th>Colour_Xerox</th>\n",
       "    </tr>\n",
       "  </thead>\n",
       "  <tbody>\n",
       "    <tr>\n",
       "      <th>0</th>\n",
       "      <td>07-01-2017</td>\n",
       "      <td>29084</td>\n",
       "      <td>10578</td>\n",
       "      <td>0</td>\n",
       "      <td>0</td>\n",
       "      <td>0</td>\n",
       "      <td>0</td>\n",
       "    </tr>\n",
       "    <tr>\n",
       "      <th>1</th>\n",
       "      <td>14-01-2017</td>\n",
       "      <td>17134</td>\n",
       "      <td>15785</td>\n",
       "      <td>0</td>\n",
       "      <td>0</td>\n",
       "      <td>0</td>\n",
       "      <td>0</td>\n",
       "    </tr>\n",
       "    <tr>\n",
       "      <th>2</th>\n",
       "      <td>21-01-2017</td>\n",
       "      <td>16283</td>\n",
       "      <td>21509</td>\n",
       "      <td>0</td>\n",
       "      <td>0</td>\n",
       "      <td>0</td>\n",
       "      <td>0</td>\n",
       "    </tr>\n",
       "    <tr>\n",
       "      <th>3</th>\n",
       "      <td>28-01-2017</td>\n",
       "      <td>10999</td>\n",
       "      <td>17260</td>\n",
       "      <td>0</td>\n",
       "      <td>0</td>\n",
       "      <td>0</td>\n",
       "      <td>0</td>\n",
       "    </tr>\n",
       "    <tr>\n",
       "      <th>4</th>\n",
       "      <td>04-02-2017</td>\n",
       "      <td>27760</td>\n",
       "      <td>13861</td>\n",
       "      <td>0</td>\n",
       "      <td>0</td>\n",
       "      <td>0</td>\n",
       "      <td>0</td>\n",
       "    </tr>\n",
       "  </tbody>\n",
       "</table>\n",
       "</div>"
      ],
      "text/plain": [
       "  Last_Day_of_Week  Xerox  Print_BW  Files  Binding  Print_Colour  \\\n",
       "0       07-01-2017  29084     10578      0        0             0   \n",
       "1       14-01-2017  17134     15785      0        0             0   \n",
       "2       21-01-2017  16283     21509      0        0             0   \n",
       "3       28-01-2017  10999     17260      0        0             0   \n",
       "4       04-02-2017  27760     13861      0        0             0   \n",
       "\n",
       "   Colour_Xerox  \n",
       "0             0  \n",
       "1             0  \n",
       "2             0  \n",
       "3             0  \n",
       "4             0  "
      ]
     },
     "execution_count": 69,
     "metadata": {},
     "output_type": "execute_result"
    }
   ],
   "source": [
    "df.head()"
   ]
  },
  {
   "cell_type": "code",
   "execution_count": 70,
   "metadata": {},
   "outputs": [
    {
     "name": "stdout",
     "output_type": "stream",
     "text": [
      "<class 'pandas.core.frame.DataFrame'>\n",
      "RangeIndex: 278 entries, 0 to 277\n",
      "Data columns (total 7 columns):\n",
      " #   Column            Non-Null Count  Dtype \n",
      "---  ------            --------------  ----- \n",
      " 0   Last_Day_of_Week  278 non-null    object\n",
      " 1   Xerox             278 non-null    int64 \n",
      " 2   Print_BW          278 non-null    int64 \n",
      " 3   Files             278 non-null    int64 \n",
      " 4   Binding           278 non-null    int64 \n",
      " 5   Print_Colour      278 non-null    int64 \n",
      " 6   Colour_Xerox      278 non-null    int64 \n",
      "dtypes: int64(6), object(1)\n",
      "memory usage: 15.3+ KB\n"
     ]
    }
   ],
   "source": [
    "df.info()"
   ]
  },
  {
   "cell_type": "code",
   "execution_count": 71,
   "metadata": {},
   "outputs": [
    {
     "data": {
      "text/html": [
       "<div>\n",
       "<style scoped>\n",
       "    .dataframe tbody tr th:only-of-type {\n",
       "        vertical-align: middle;\n",
       "    }\n",
       "\n",
       "    .dataframe tbody tr th {\n",
       "        vertical-align: top;\n",
       "    }\n",
       "\n",
       "    .dataframe thead th {\n",
       "        text-align: right;\n",
       "    }\n",
       "</style>\n",
       "<table border=\"1\" class=\"dataframe\">\n",
       "  <thead>\n",
       "    <tr style=\"text-align: right;\">\n",
       "      <th></th>\n",
       "      <th>Xerox</th>\n",
       "      <th>Print_BW</th>\n",
       "      <th>Files</th>\n",
       "      <th>Binding</th>\n",
       "      <th>Print_Colour</th>\n",
       "      <th>Colour_Xerox</th>\n",
       "    </tr>\n",
       "  </thead>\n",
       "  <tbody>\n",
       "    <tr>\n",
       "      <th>count</th>\n",
       "      <td>278.000000</td>\n",
       "      <td>278.000000</td>\n",
       "      <td>278.000000</td>\n",
       "      <td>278.000000</td>\n",
       "      <td>278.000000</td>\n",
       "      <td>278.000000</td>\n",
       "    </tr>\n",
       "    <tr>\n",
       "      <th>mean</th>\n",
       "      <td>14538.179856</td>\n",
       "      <td>7638.258993</td>\n",
       "      <td>23.517986</td>\n",
       "      <td>12.726619</td>\n",
       "      <td>127.215827</td>\n",
       "      <td>133.413669</td>\n",
       "    </tr>\n",
       "    <tr>\n",
       "      <th>std</th>\n",
       "      <td>11198.715705</td>\n",
       "      <td>5886.385480</td>\n",
       "      <td>61.423646</td>\n",
       "      <td>40.864274</td>\n",
       "      <td>159.903751</td>\n",
       "      <td>169.583898</td>\n",
       "    </tr>\n",
       "    <tr>\n",
       "      <th>min</th>\n",
       "      <td>1059.000000</td>\n",
       "      <td>581.000000</td>\n",
       "      <td>0.000000</td>\n",
       "      <td>0.000000</td>\n",
       "      <td>0.000000</td>\n",
       "      <td>0.000000</td>\n",
       "    </tr>\n",
       "    <tr>\n",
       "      <th>25%</th>\n",
       "      <td>4591.250000</td>\n",
       "      <td>2437.000000</td>\n",
       "      <td>0.000000</td>\n",
       "      <td>0.000000</td>\n",
       "      <td>0.000000</td>\n",
       "      <td>0.000000</td>\n",
       "    </tr>\n",
       "    <tr>\n",
       "      <th>50%</th>\n",
       "      <td>12736.500000</td>\n",
       "      <td>6454.500000</td>\n",
       "      <td>0.000000</td>\n",
       "      <td>0.000000</td>\n",
       "      <td>0.000000</td>\n",
       "      <td>0.000000</td>\n",
       "    </tr>\n",
       "    <tr>\n",
       "      <th>75%</th>\n",
       "      <td>21349.000000</td>\n",
       "      <td>11923.500000</td>\n",
       "      <td>0.000000</td>\n",
       "      <td>0.000000</td>\n",
       "      <td>265.000000</td>\n",
       "      <td>284.500000</td>\n",
       "    </tr>\n",
       "    <tr>\n",
       "      <th>max</th>\n",
       "      <td>45392.000000</td>\n",
       "      <td>24416.000000</td>\n",
       "      <td>300.000000</td>\n",
       "      <td>250.000000</td>\n",
       "      <td>496.000000</td>\n",
       "      <td>498.000000</td>\n",
       "    </tr>\n",
       "  </tbody>\n",
       "</table>\n",
       "</div>"
      ],
      "text/plain": [
       "              Xerox      Print_BW       Files     Binding  Print_Colour  \\\n",
       "count    278.000000    278.000000  278.000000  278.000000    278.000000   \n",
       "mean   14538.179856   7638.258993   23.517986   12.726619    127.215827   \n",
       "std    11198.715705   5886.385480   61.423646   40.864274    159.903751   \n",
       "min     1059.000000    581.000000    0.000000    0.000000      0.000000   \n",
       "25%     4591.250000   2437.000000    0.000000    0.000000      0.000000   \n",
       "50%    12736.500000   6454.500000    0.000000    0.000000      0.000000   \n",
       "75%    21349.000000  11923.500000    0.000000    0.000000    265.000000   \n",
       "max    45392.000000  24416.000000  300.000000  250.000000    496.000000   \n",
       "\n",
       "       Colour_Xerox  \n",
       "count    278.000000  \n",
       "mean     133.413669  \n",
       "std      169.583898  \n",
       "min        0.000000  \n",
       "25%        0.000000  \n",
       "50%        0.000000  \n",
       "75%      284.500000  \n",
       "max      498.000000  "
      ]
     },
     "execution_count": 71,
     "metadata": {},
     "output_type": "execute_result"
    }
   ],
   "source": [
    "df.describe()"
   ]
  },
  {
   "cell_type": "code",
   "execution_count": 72,
   "metadata": {},
   "outputs": [],
   "source": [
    "xerox = df['Xerox'].sum()\n",
    "xerox_color = df['Colour_Xerox'].sum()\n",
    "print_bw = df['Print_BW'].sum()\n",
    "print_color = df['Print_Colour'].sum()\n",
    "files = df['Files'].sum()\n",
    "binding = df['Binding'].sum()"
   ]
  },
  {
   "cell_type": "code",
   "execution_count": 73,
   "metadata": {},
   "outputs": [],
   "source": [
    "import dash\n",
    "import dash_core_components as dcc\n",
    "import dash_html_components as html\n",
    "from dash.dependencies import Input, Output\n",
    "import plotly.graph_objs as go\n",
    "import pandas as pd\n",
    "import dash_table as dt\n",
    "import plotly.express as px"
   ]
  },
  {
   "cell_type": "code",
   "execution_count": 74,
   "metadata": {},
   "outputs": [
    {
     "data": {
      "text/plain": [
       "Binding            3538\n",
       "Files              6538\n",
       "Print_Colour      35366\n",
       "Colour_Xerox      37089\n",
       "Print_BW        2123436\n",
       "Xerox           4041614\n",
       "dtype: object"
      ]
     },
     "execution_count": 74,
     "metadata": {},
     "output_type": "execute_result"
    }
   ],
   "source": [
    "sums = df.sum()\n",
    "sums = sums[1:]\n",
    "sums\n",
    "sorted_sums = sums.sort_values(ascending=True)\n",
    "sorted_sums"
   ]
  },
  {
   "cell_type": "code",
   "execution_count": 80,
   "metadata": {},
   "outputs": [
    {
     "data": {
      "text/html": [
       "\n",
       "        <iframe\n",
       "            width=\"100%\"\n",
       "            height=\"650\"\n",
       "            src=\"http://127.0.0.1:8050/\"\n",
       "            frameborder=\"0\"\n",
       "            allowfullscreen\n",
       "            \n",
       "        ></iframe>\n",
       "        "
      ],
      "text/plain": [
       "<IPython.lib.display.IFrame at 0x2888a05be10>"
      ]
     },
     "metadata": {},
     "output_type": "display_data"
    }
   ],
   "source": [
    "app = dash.Dash(__name__)\n",
    "\n",
    "# Define layout\n",
    "app.layout = html.Div(children=[\n",
    "    html.H1(children='Summary', style={'textAlign': 'center', 'color': '#fff', 'font-size': 24}),\n",
    "\n",
    "    dcc.Graph(\n",
    "        id='summary-bar-graph',\n",
    "        figure=px.bar(\n",
    "            x=sorted_sums.values,\n",
    "            y=sorted_sums.index,\n",
    "            orientation='h',\n",
    "            labels={'x': 'Total Counts', 'y': 'Operations'},\n",
    "            title='Summary of Operations',\n",
    "            barmode='relative',  # Set bar mode to 'relative'\n",
    "            opacity=0.6,  # Set opacity for better visualization\n",
    "            range_x=[0, sorted_sums.max() * 0.65]\n",
    "        )\n",
    "    )\n",
    "], style={'backgroundColor': '#111', 'color': '#fff', 'width' : '50%'})  # Set background color to black and text color to white\n",
    "\n",
    "\n",
    "if __name__ == '__main__':\n",
    "    app.run_server(debug=True)\n"
   ]
  },
  {
   "cell_type": "code",
   "execution_count": null,
   "metadata": {},
   "outputs": [],
   "source": []
  },
  {
   "cell_type": "code",
   "execution_count": null,
   "metadata": {},
   "outputs": [],
   "source": []
  }
 ],
 "metadata": {
  "kernelspec": {
   "display_name": "Python 3",
   "language": "python",
   "name": "python3"
  },
  "language_info": {
   "codemirror_mode": {
    "name": "ipython",
    "version": 3
   },
   "file_extension": ".py",
   "mimetype": "text/x-python",
   "name": "python",
   "nbconvert_exporter": "python",
   "pygments_lexer": "ipython3",
   "version": "3.11.0"
  }
 },
 "nbformat": 4,
 "nbformat_minor": 2
}
